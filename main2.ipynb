{
 "cells": [
  {
   "cell_type": "code",
   "execution_count": 2,
   "metadata": {},
   "outputs": [],
   "source": [
    "import sys\n",
    "sys.path.append('../')\n",
    "\n",
    "import numpy as np\n",
    "import matplotlib.pyplot as plt\n",
    "from sklearn.datasets import load_iris\n",
    "from sklearn.model_selection import train_test_split\n",
    "from sklearn.preprocessing import StandardScaler\n",
    "from tqdm import tqdm\n",
    "\n",
    "from smo import *"
   ]
  },
  {
   "cell_type": "code",
   "execution_count": 3,
   "metadata": {},
   "outputs": [
    {
     "name": "stdout",
     "output_type": "stream",
     "text": [
      "Converged in 3 iterations\n",
      "Accuracy: 88.46%\n",
      "self.b: -12.538830784392644\n",
      "Y_pred: [1. 1. 1. 1. 1. 1. 1. 1. 1. 1. 1. 1. 1. 1. 1. 1. 1. 1. 1. 1. 1. 1. 1. 1.\n",
      " 1. 1.]\n",
      "Y_test: [ 1  1  1  1 -1  1  1  1  1 -1  1  1  1  1  1  1 -1  1  1  1  1  1  1  1\n",
      "  1  1]\n"
     ]
    }
   ],
   "source": [
    "# Load dataset and prepare the data\n",
    "wine = load_wine()\n",
    "X = wine.data[50:, 2:]\n",
    "Y = wine.target[50:]\n",
    "\n",
    "# Split the data\n",
    "X_train, X_test, Y_train, Y_test = train_test_split(X, Y, test_size=0.2, random_state=0)\n",
    "\n",
    "# Train the SVM\n",
    "svm = SVM(kernel='linear', C=1)\n",
    "svm.fit(X_train, Y_train)\n",
    "\n",
    "# Evaluate the model\n",
    "Y_pred = svm.predict(X_test)\n",
    "accuracy = np.mean(Y_pred == svm.scale_labels(Y_test))\n",
    "print(f'Accuracy: {accuracy * 100:.2f}%')\n",
    "print(f'self.b: {svm.b}')\n",
    "\n",
    "print(\"Y_pred:\", Y_pred)\n",
    "print(\"Y_test:\", svm.scale_labels(Y_test))\n"
   ]
  }
 ],
 "metadata": {
  "kernelspec": {
   "display_name": "Python 3",
   "language": "python",
   "name": "python3"
  },
  "language_info": {
   "codemirror_mode": {
    "name": "ipython",
    "version": 3
   },
   "file_extension": ".py",
   "mimetype": "text/x-python",
   "name": "python",
   "nbconvert_exporter": "python",
   "pygments_lexer": "ipython3",
   "version": "3.12.1"
  }
 },
 "nbformat": 4,
 "nbformat_minor": 2
}
